{
 "cells": [
  {
   "cell_type": "code",
   "execution_count": null,
   "id": "8563da1a-9177-41ff-9161-b9317fb1a58c",
   "metadata": {},
   "outputs": [],
   "source": [
    "#| default_exp libs.loss.cross_entropy"
   ]
  },
  {
   "cell_type": "markdown",
   "id": "6ba79c3e-80b1-4c4a-8fc2-395a61ec3fab",
   "metadata": {},
   "source": [
    "## `CrossEntropyLoss`\n",
    "\n",
    "### **Description:**\n",
    "- Represents a customized Cross Entropy Loss function for semantic segmentation tasks.\n",
    "\n",
    "### **Methods:**\n",
    "\n",
    " #### `__init__(self, ignore_index=255, label_smoothing=0.0, reduction='none', weight=None)`\n",
    "   - **Description:**\n",
    "     - Initializes the CrossEntropyLoss function.\n",
    "   - **Parameters:**\n",
    "     - `ignore_index` (int): Specifies a target value that is ignored and does not contribute to the loss. Default is 255.\n",
    "     - `label_smoothing` (float): Controls the amount of label smoothing applied to the targets. Default is 0.0 (no smoothing).\n",
    "     - `reduction` (str): Specifies the reduction method for computing the loss. Options are 'none', 'mean', and 'sum'. Default is 'none'.\n",
    "     - `weight` (torch.Tensor): Optional tensor of class weights to apply to the loss. Default is None.\n",
    "   - **Returns:**\n",
    "     - None\n",
    "---\n",
    "\n",
    " #### `__call__(self, images, targets)`\n",
    "   - **Description:**\n",
    "     - Computes the Cross Entropy Loss between the predicted images and the target labels.\n",
    "   - **Parameters:**\n",
    "     - `images` (torch.Tensor): Predicted output images from the model.\n",
    "     - `targets` (torch.Tensor): Ground truth label images.\n",
    "   - **Returns:**\n",
    "     - `torch.Tensor`: Computed Cross Entropy Loss.\n"
   ]
  },
  {
   "cell_type": "code",
   "execution_count": null,
   "id": "f96f46ee-651a-4094-94c6-ac9cc50a3e90",
   "metadata": {},
   "outputs": [],
   "source": [
    "#| export\n",
    "import torch\n",
    "\n",
    "class CrossEntropyLoss:\n",
    "\n",
    "    def __init__(self, ignore_index=255, label_smoothing=0.0, reduction='none', weight=None):\n",
    "        self.ignore_index = ignore_index\n",
    "        self.label_smoothing = label_smoothing\n",
    "        self.reduction = reduction\n",
    "        self.weight = weight\n",
    "        \n",
    "\n",
    "    def __call__(self, images, targets):\n",
    "        if len(targets.shape) > 3:\n",
    "            targets = torch.squeeze(targets, dim=1)\n",
    "\n",
    "        return torch.nn.functional.cross_entropy(\n",
    "            images,\n",
    "            targets,\n",
    "            ignore_index=self.ignore_index,\n",
    "            label_smoothing=self.label_smoothing,\n",
    "            reduction=self.reduction,\n",
    "            weight=self.weight\n",
    "        )\n"
   ]
  }
 ],
 "metadata": {
  "kernelspec": {
   "display_name": "python3",
   "language": "python",
   "name": "python3"
  }
 },
 "nbformat": 4,
 "nbformat_minor": 5
}
