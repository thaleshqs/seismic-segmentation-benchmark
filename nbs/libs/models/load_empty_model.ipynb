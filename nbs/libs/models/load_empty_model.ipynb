{
 "cells": [
  {
   "cell_type": "code",
   "execution_count": null,
   "id": "8c3e3b4f-bc15-4624-8853-0bab4db18af9",
   "metadata": {},
   "outputs": [],
   "source": [
    "#| default_exp libs.models.load_empty_model"
   ]
  },
  {
   "cell_type": "markdown",
   "id": "76ae40e9-13bc-4abf-8195-8921a51109b5",
   "metadata": {},
   "source": [
    "## `load_empty_model`\n",
    "\n",
    "### **Description:**\n",
    "- Loads an empty instance of a segmentation model based on the specified architecture.\n",
    "### **Parameters:**\n",
    "- `architecture` (str): The architecture of the segmentation model to be loaded. Options include `'segnet'`, `'unet'`, and `'deconvnet'`.\n",
    "- `n_classes` (int): Number of output classes for the segmentation model.\n",
    "### **Returns:**\n",
    "- `torch.nn.Module`: An instance of the specified segmentation model initialized with default parameters."
   ]
  },
  {
   "cell_type": "code",
   "execution_count": null,
   "id": "ad8121bc-bfa6-4a07-b404-fe4929e2d18c",
   "metadata": {},
   "outputs": [],
   "source": [
    "#| export\n",
    "from libs.models.segnet import SegNet\n",
    "from libs.models.unet import UNet\n",
    "from libs.models.deconvnet import DeconvNet\n",
    "\n",
    "\n",
    "def load_empty_model(architecture, n_classes):\n",
    "    models = {\n",
    "        'segnet': SegNet,\n",
    "        'unet': UNet,\n",
    "        'deconvnet': DeconvNet\n",
    "    }\n",
    "\n",
    "    ModelClass = models[architecture]\n",
    "    model = ModelClass(n_channels=1, n_classes=n_classes)\n",
    "\n",
    "    return model"
   ]
  }
 ],
 "metadata": {
  "kernelspec": {
   "display_name": "python3",
   "language": "python",
   "name": "python3"
  }
 },
 "nbformat": 4,
 "nbformat_minor": 5
}
