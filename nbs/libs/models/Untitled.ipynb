{
 "cells": [
  {
   "cell_type": "code",
   "execution_count": null,
   "id": "6bc2b363-7b3b-49ea-a2de-855b1f64dec7",
   "metadata": {},
   "outputs": [],
   "source": [
    "#| default_exp libs.models.untitled"
   ]
  },
  {
   "cell_type": "markdown",
   "id": "0022e216-dbfc-4ad9-b881-e01a9d9397c0",
   "metadata": {},
   "source": [
    "# doc"
   ]
  },
  {
   "cell_type": "code",
   "execution_count": null,
   "id": "0319523f-6543-43ee-84c0-2edf69019966",
   "metadata": {},
   "outputs": [],
   "source": [
    "#| export\n",
    "from libs.models.segnet import SegNet\n",
    "from libs.models.unet import UNet\n",
    "from libs.models.deconvnet import DeconvNet\n"
   ]
  }
 ],
 "metadata": {
  "kernelspec": {
   "display_name": "python3",
   "language": "python",
   "name": "python3"
  }
 },
 "nbformat": 4,
 "nbformat_minor": 5
}
